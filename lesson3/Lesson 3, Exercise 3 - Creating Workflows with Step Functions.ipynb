{
 "cells": [
  {
   "cell_type": "markdown",
   "id": "c5dc198f",
   "metadata": {},
   "source": [
    "# UDACITY Designing Your First Workflow - Step Functions"
   ]
  },
  {
   "cell_type": "markdown",
   "id": "a00c09c5",
   "metadata": {},
   "source": [
    "## Step Functions & SageMaker"
   ]
  },
  {
   "cell_type": "markdown",
   "id": "2c2a5b51",
   "metadata": {},
   "source": [
    "In the prior exercises, we've been working with many small services. This can be overwhelming for a data scientist that wants to establish a consistent methodology for handling data. Step Functions is an orchestration service that can allow us to utilize SageMaker in a methodical and consistent way. Step Functions also integrates with Lambda, which can allow us to potentially automate our entire machine learning pipeline end-to-end. Let's get a handle on what a 'step' in a step function looks like.\n",
    "\n",
    "In this exercise, you will create a preprocessing step and a training step. Then you will create a step function to chain the two steps."
   ]
  },
  {
   "cell_type": "markdown",
   "id": "3e5c1c6b",
   "metadata": {},
   "source": [
    "## Exercise: Grant Permissions and install packages."
   ]
  },
  {
   "cell_type": "markdown",
   "id": "1d76a91b",
   "metadata": {},
   "source": [
    "Attach the IAMFullAccess and the StepFunctionsFullAccess polices to your SageMaker execution role."
   ]
  },
  {
   "cell_type": "code",
   "execution_count": 2,
   "id": "981094fe",
   "metadata": {
    "tags": []
   },
   "outputs": [
    {
     "name": "stdout",
     "output_type": "stream",
     "text": [
      "Collecting stepfunctions\n",
      "  Downloading stepfunctions-2.3.0.tar.gz (67 kB)\n",
      "     ━━━━━━━━━━━━━━━━━━━━━━━━━━━━━━━━━━━━━━━━ 67.1/67.1 kB 1.1 MB/s eta 0:00:00\n",
      "  Preparing metadata (setup.py): started\n",
      "  Preparing metadata (setup.py): finished with status 'done'\n",
      "Requirement already satisfied: sagemaker>=2.1.0 in /opt/conda/lib/python3.7/site-packages (from stepfunctions) (2.120.0)\n",
      "Requirement already satisfied: boto3>=1.14.38 in /opt/conda/lib/python3.7/site-packages (from stepfunctions) (1.26.24)\n",
      "Requirement already satisfied: pyyaml in /opt/conda/lib/python3.7/site-packages (from stepfunctions) (6.0)\n",
      "Requirement already satisfied: s3transfer<0.7.0,>=0.6.0 in /opt/conda/lib/python3.7/site-packages (from boto3>=1.14.38->stepfunctions) (0.6.0)\n",
      "Requirement already satisfied: botocore<1.30.0,>=1.29.24 in /opt/conda/lib/python3.7/site-packages (from boto3>=1.14.38->stepfunctions) (1.29.24)\n",
      "Requirement already satisfied: jmespath<2.0.0,>=0.7.1 in /opt/conda/lib/python3.7/site-packages (from boto3>=1.14.38->stepfunctions) (1.0.1)\n",
      "Requirement already satisfied: schema in /opt/conda/lib/python3.7/site-packages (from sagemaker>=2.1.0->stepfunctions) (0.7.5)\n",
      "Requirement already satisfied: packaging>=20.0 in /opt/conda/lib/python3.7/site-packages (from sagemaker>=2.1.0->stepfunctions) (20.1)\n",
      "Requirement already satisfied: numpy<2.0,>=1.9.0 in /opt/conda/lib/python3.7/site-packages (from sagemaker>=2.1.0->stepfunctions) (1.21.6)\n",
      "Requirement already satisfied: protobuf3-to-dict<1.0,>=0.1.5 in /opt/conda/lib/python3.7/site-packages (from sagemaker>=2.1.0->stepfunctions) (0.1.5)\n",
      "Requirement already satisfied: google-pasta in /opt/conda/lib/python3.7/site-packages (from sagemaker>=2.1.0->stepfunctions) (0.2.0)\n",
      "Requirement already satisfied: smdebug-rulesconfig==1.0.1 in /opt/conda/lib/python3.7/site-packages (from sagemaker>=2.1.0->stepfunctions) (1.0.1)\n",
      "Requirement already satisfied: pandas in /opt/conda/lib/python3.7/site-packages (from sagemaker>=2.1.0->stepfunctions) (1.3.5)\n",
      "Requirement already satisfied: attrs<23,>=20.3.0 in /opt/conda/lib/python3.7/site-packages (from sagemaker>=2.1.0->stepfunctions) (22.1.0)\n",
      "Requirement already satisfied: pathos in /opt/conda/lib/python3.7/site-packages (from sagemaker>=2.1.0->stepfunctions) (0.3.0)\n",
      "Collecting importlib-metadata<5.0,>=1.4.0\n",
      "  Downloading importlib_metadata-4.13.0-py3-none-any.whl (23 kB)\n",
      "Requirement already satisfied: protobuf<4.0,>=3.1 in /opt/conda/lib/python3.7/site-packages (from sagemaker>=2.1.0->stepfunctions) (3.20.3)\n",
      "Requirement already satisfied: python-dateutil<3.0.0,>=2.1 in /opt/conda/lib/python3.7/site-packages (from botocore<1.30.0,>=1.29.24->boto3>=1.14.38->stepfunctions) (2.8.2)\n",
      "Requirement already satisfied: urllib3<1.27,>=1.25.4 in /opt/conda/lib/python3.7/site-packages (from botocore<1.30.0,>=1.29.24->boto3>=1.14.38->stepfunctions) (1.26.13)\n",
      "Requirement already satisfied: typing-extensions>=3.6.4 in /opt/conda/lib/python3.7/site-packages (from importlib-metadata<5.0,>=1.4.0->sagemaker>=2.1.0->stepfunctions) (4.4.0)\n",
      "Requirement already satisfied: zipp>=0.5 in /opt/conda/lib/python3.7/site-packages (from importlib-metadata<5.0,>=1.4.0->sagemaker>=2.1.0->stepfunctions) (3.11.0)\n",
      "Requirement already satisfied: six in /opt/conda/lib/python3.7/site-packages (from packaging>=20.0->sagemaker>=2.1.0->stepfunctions) (1.14.0)\n",
      "Requirement already satisfied: pyparsing>=2.0.2 in /opt/conda/lib/python3.7/site-packages (from packaging>=20.0->sagemaker>=2.1.0->stepfunctions) (2.4.6)\n",
      "Requirement already satisfied: pytz>=2017.3 in /opt/conda/lib/python3.7/site-packages (from pandas->sagemaker>=2.1.0->stepfunctions) (2019.3)\n",
      "Requirement already satisfied: dill>=0.3.6 in /opt/conda/lib/python3.7/site-packages (from pathos->sagemaker>=2.1.0->stepfunctions) (0.3.6)\n",
      "Requirement already satisfied: multiprocess>=0.70.14 in /opt/conda/lib/python3.7/site-packages (from pathos->sagemaker>=2.1.0->stepfunctions) (0.70.14)\n",
      "Requirement already satisfied: ppft>=1.7.6.6 in /opt/conda/lib/python3.7/site-packages (from pathos->sagemaker>=2.1.0->stepfunctions) (1.7.6.6)\n",
      "Requirement already satisfied: pox>=0.3.2 in /opt/conda/lib/python3.7/site-packages (from pathos->sagemaker>=2.1.0->stepfunctions) (0.3.2)\n",
      "Requirement already satisfied: contextlib2>=0.5.5 in /opt/conda/lib/python3.7/site-packages (from schema->sagemaker>=2.1.0->stepfunctions) (0.6.0.post1)\n",
      "Building wheels for collected packages: stepfunctions\n",
      "  Building wheel for stepfunctions (setup.py): started\n",
      "  Building wheel for stepfunctions (setup.py): finished with status 'done'\n",
      "  Created wheel for stepfunctions: filename=stepfunctions-2.3.0-py2.py3-none-any.whl size=78169 sha256=7786d358697774a0ee948be014507e749e8c258dab89830cb3ee10a9aacc1fcd\n",
      "  Stored in directory: /root/.cache/pip/wheels/f9/4d/82/2600a4b1b472e5f829a388b38f24232c57ed4c03f3553b3873\n",
      "Successfully built stepfunctions\n",
      "Installing collected packages: importlib-metadata, stepfunctions\n",
      "  Attempting uninstall: importlib-metadata\n",
      "    Found existing installation: importlib-metadata 5.1.0\n",
      "    Uninstalling importlib-metadata-5.1.0:\n",
      "      Successfully uninstalled importlib-metadata-5.1.0\n",
      "Successfully installed importlib-metadata-4.13.0 stepfunctions-2.3.0\n"
     ]
    },
    {
     "name": "stderr",
     "output_type": "stream",
     "text": [
      "Keyring is skipped due to an exception: 'keyring.backends'\n",
      "ERROR: pip's dependency resolver does not currently take into account all the packages that are installed. This behaviour is the source of the following dependency conflicts.\n",
      "pytest-astropy 0.8.0 requires pytest-cov>=2.0, which is not installed.\n",
      "pytest-astropy 0.8.0 requires pytest-filter-subpackage>=0.1, which is not installed.\n",
      "docker-compose 1.29.2 requires PyYAML<6,>=3.10, but you have pyyaml 6.0 which is incompatible.\n",
      "WARNING: Running pip as the 'root' user can result in broken permissions and conflicting behaviour with the system package manager. It is recommended to use a virtual environment instead: https://pip.pypa.io/warnings/venv\n"
     ]
    }
   ],
   "source": [
    "%%bash\n",
    "pip install stepfunctions"
   ]
  },
  {
   "cell_type": "markdown",
   "id": "2980c12c",
   "metadata": {},
   "source": [
    "## Exercise: Fill out preprocessing step."
   ]
  },
  {
   "cell_type": "markdown",
   "id": "752d3b79",
   "metadata": {},
   "source": [
    "The 'step' interface is designed to be quite similar to the Preprocessing Job in lesson 2. The main difference between these is the ability of a 'step' to interface with other steps. Given the successful outcome of a single step, the next step specified in a workflow will automatically continue. In our case, a training step will launch given the successful outcome of a preprocessing step. The preprocessing step has been encoded for you. Upload the preprocessing code 'HelloBlazePreprocess.py' and the zipped dataset 'reviews_Musical_Instruments_5.json.zip' to s3, and fill out the constants in the code below. "
   ]
  },
  {
   "cell_type": "markdown",
   "id": "0df2f1ac",
   "metadata": {},
   "source": [
    "Code below is the preprocessing step. Fill in the constants in the code."
   ]
  },
  {
   "cell_type": "code",
   "execution_count": 11,
   "id": "9d82815d",
   "metadata": {
    "tags": []
   },
   "outputs": [],
   "source": [
    "from sagemaker import get_execution_role\n",
    "from sagemaker.sklearn.processing import SKLearnProcessor\n",
    "from sagemaker.processing import ProcessingInput, ProcessingOutput\n",
    "from stepfunctions.steps.sagemaker import ProcessingStep\n",
    "import sagemaker\n",
    "\n",
    "role = get_execution_role()\n",
    "\n",
    "PREPROCESSING_JOB_NAME = \"test-step-function2\"\n",
    "input_data = 's3://mlflowdemo-kb/l3e3/reviews_Musical_Instruments_5.json.zip'\n",
    "input_preprocessing_code = 's3://mlflowdemo-kb/l3e3/HelloBlazePreprocess.py'\n",
    "sess = sagemaker.Session()\n",
    "\n",
    "sklearn_processor = SKLearnProcessor(framework_version='0.20.0',\n",
    "                                     role=role,\n",
    "                                     instance_type='ml.m5.large',\n",
    "                                     instance_count=1)\n",
    "\n",
    "\n",
    "processed_data_train = \"{}{}/{}\".format(\"s3://\", sess.default_bucket(), 'hello_blaze_train_scikit')\n",
    "processed_data_test = \"{}{}/{}\".format(\"s3://\", sess.default_bucket(), 'hello_blaze_test_scikit')\n",
    "\n",
    "inputs=[ProcessingInput(source=input_data, destination='/opt/ml/processing/input', input_name = 'input-1'),  ProcessingInput(source=input_preprocessing_code , destination='/opt/ml/processing/input/code', input_name = 'code')]\n",
    "\n",
    "\n",
    "outputs=[ProcessingOutput(source='/opt/ml/processing/output/train', destination=processed_data_train, output_name = 'train_data'), ProcessingOutput(source='/opt/ml/processing/output/test', destination=processed_data_test, output_name = 'test_data')]\n",
    "\n",
    "\n",
    "processing_step = ProcessingStep(\n",
    "    \"SageMaker pre-processing step 4\",\n",
    "    processor=sklearn_processor,\n",
    "    job_name=PREPROCESSING_JOB_NAME,\n",
    "    inputs=inputs,\n",
    "    outputs=outputs,\n",
    "    container_entrypoint=[\"python3\", \"/opt/ml/processing/input/code/HelloBlazePreprocess.py\"],\n",
    ")\n"
   ]
  },
  {
   "cell_type": "markdown",
   "id": "5048e4f3",
   "metadata": {},
   "source": [
    "## Exercise: Fill out Training Step"
   ]
  },
  {
   "cell_type": "markdown",
   "id": "a904f213",
   "metadata": {},
   "source": [
    "Upon the success of the preprocessing step, we wish to execute a training step. A training step is defined below. Fill the constants in the code."
   ]
  },
  {
   "cell_type": "code",
   "execution_count": 12,
   "id": "a7b7118c",
   "metadata": {
    "tags": []
   },
   "outputs": [],
   "source": [
    "from stepfunctions.steps.sagemaker import TrainingStep\n",
    "import boto3\n",
    "\n",
    "WORKFLOW_OUTPUT = \"s3://mlflowdemo-kb/l3e3/workflow-output\"\n",
    "TRAINING_JOB_NAME = \"training-job2\"\n",
    "\n",
    "region_name = boto3.Session().region_name\n",
    "container = sagemaker.image_uris.retrieve(\n",
    "    region=region_name, framework=\"blazingtext\", version=\"latest\"\n",
    ")\n",
    "\n",
    "helloBlazeEstimator = sagemaker.estimator.Estimator(\n",
    "    container,\n",
    "    role=role,\n",
    "    instance_count=1,\n",
    "    instance_type='ml.m5.large',\n",
    "    volume_size=30,\n",
    "    max_run=360000,\n",
    "    input_mode=\"File\",\n",
    "    output_path=WORKFLOW_OUTPUT,\n",
    "    sagemaker_session=sess,\n",
    ")\n",
    "\n",
    "helloBlazeEstimator.set_hyperparameters(mode='supervised')\n",
    "\n",
    "training_step = TrainingStep(\n",
    "    \"SageMaker Training Step\",\n",
    "    estimator=helloBlazeEstimator,\n",
    "    data={\"train\": sagemaker.TrainingInput(processed_data_train, content_type=\"text/plain\"), \"validation\": sagemaker.TrainingInput(processed_data_test, content_type=\"text/plain\")},\n",
    "    job_name=TRAINING_JOB_NAME,\n",
    "    wait_for_completion=True,\n",
    ")"
   ]
  },
  {
   "cell_type": "markdown",
   "id": "672f280c",
   "metadata": {},
   "source": [
    "## Exercise: Create Workflow & Execute It. "
   ]
  },
  {
   "cell_type": "markdown",
   "id": "4c549f3b",
   "metadata": {},
   "source": [
    "To link the steps, you'll need to create a role that is capable of doing so. Go to IAM and create a Step Functions role, and attach the CloudWatchEventsFullAccess and SageMakerFullAccess policies. Once done, make use of the above steps to create a workflow. Quick debugging tip: jobs must have a unique name; you'll need to rename job names when debugging. Consider creating a method that will dynamically create unique job names! "
   ]
  },
  {
   "cell_type": "code",
   "execution_count": 13,
   "id": "c4c39201",
   "metadata": {
    "tags": []
   },
   "outputs": [],
   "source": [
    "from stepfunctions.steps import Chain\n",
    "from stepfunctions.workflow import Workflow\n",
    "\n",
    "workflow_role = 'arn:aws:iam::560402809124:role/step-function-role'\n",
    "\n",
    "workflow_graph = Chain([processing_step, training_step])\n",
    "workflow = Workflow(\n",
    "    name=\"SageMaker_StepFunction2\",\n",
    "    definition=workflow_graph,\n",
    "    role=workflow_role,\n",
    ")\n",
    "\n",
    "workflow.create()\n",
    "\n",
    "execution = workflow.execute(\n",
    "    inputs={\n",
    "        \"PreprocessingJobName\": PREPROCESSING_JOB_NAME,  # Each pre processing job (SageMaker processing job) requires a unique name,\n",
    "        \"TrainingJobName\": TRAINING_JOB_NAME  # Each Sagemaker Training job requires a unique name,       \n",
    "    }\n",
    ")\n",
    "\n",
    "execution_output = execution.get_output(wait=True)"
   ]
  },
  {
   "cell_type": "markdown",
   "id": "d49a3122",
   "metadata": {},
   "source": [
    "You can track the outcome of this workflow through a custom UI that gets generated! Check it out!"
   ]
  },
  {
   "cell_type": "code",
   "execution_count": 15,
   "id": "c81e08b9",
   "metadata": {
    "tags": []
   },
   "outputs": [
    {
     "data": {
      "text/html": [
       "\n",
       "<link rel=\"stylesheet\" type=\"text/css\" href=\"https://do0of8uwbahzz.cloudfront.net/graph.css\">\n",
       "<div id=\"graph-742\" class=\"workflowgraph\">\n",
       "    \n",
       "    <style>\n",
       "        .graph-legend ul {\n",
       "            list-style-type: none;\n",
       "            padding: 10px;\n",
       "            padding-left: 0;\n",
       "            margin: 0;\n",
       "            position: absolute;\n",
       "            top: 0;\n",
       "            background: transparent;\n",
       "        }\n",
       "\n",
       "        .graph-legend li {\n",
       "            margin-left: 10px;\n",
       "            display: inline-block;\n",
       "        }\n",
       "\n",
       "        .graph-legend li > div {\n",
       "            width: 10px;\n",
       "            height: 10px;\n",
       "            display: inline-block;\n",
       "        }\n",
       "\n",
       "        .graph-legend .success { background-color: #2BD62E }\n",
       "        .graph-legend .failed { background-color: #DE322F }\n",
       "        .graph-legend .cancelled { background-color: #DDDDDD }\n",
       "        .graph-legend .in-progress { background-color: #53C9ED }\n",
       "        .graph-legend .caught-error { background-color: #FFA500 }\n",
       "    </style>\n",
       "    <div class=\"graph-legend\">\n",
       "        <ul>\n",
       "            <li>\n",
       "                <div class=\"success\"></div>\n",
       "                <span>Success</span>\n",
       "            </li>\n",
       "            <li>\n",
       "                <div class=\"failed\"></div>\n",
       "                <span>Failed</span>\n",
       "            </li>\n",
       "            <li>\n",
       "                <div class=\"cancelled\"></div>\n",
       "                <span>Cancelled</span>\n",
       "            </li>\n",
       "            <li>\n",
       "                <div class=\"in-progress\"></div>\n",
       "                <span>In Progress</span>\n",
       "            </li>\n",
       "            <li>\n",
       "                <div class=\"caught-error\"></div>\n",
       "                <span>Caught Error</span>\n",
       "            </li>\n",
       "        </ul>\n",
       "    </div>\n",
       "\n",
       "    <svg></svg>\n",
       "    <a href=\"https://console.aws.amazon.com/states/home?region=us-east-1#/executions/details/arn:aws:states:us-east-1:560402809124:execution:SageMaker_StepFunction2:9f1f4b15-b345-4cd8-9a59-c19c5074dc03\" target=\"_blank\"> Inspect in AWS Step Functions </a>\n",
       "</div>\n",
       "\n",
       "<script type=\"text/javascript\">\n",
       "\n",
       "require.config({\n",
       "    paths: {\n",
       "        sfn: \"https://do0of8uwbahzz.cloudfront.net/sfn\",\n",
       "    }\n",
       "});\n",
       "\n",
       "require(['sfn'], function(sfn) {\n",
       "    var element = document.getElementById('graph-742')\n",
       "\n",
       "    var options = {\n",
       "        width: parseFloat(getComputedStyle(element, null).width.replace(\"px\", \"\")),\n",
       "        height: 1000,\n",
       "        layout: 'LR',\n",
       "        resizeHeight: true\n",
       "    };\n",
       "\n",
       "    var definition = {\"StartAt\": \"SageMaker pre-processing step 4\", \"States\": {\"SageMaker pre-processing step 4\": {\"Resource\": \"arn:aws:states:::sagemaker:createProcessingJob.sync\", \"Parameters\": {\"ProcessingJobName\": \"test-step-function2\", \"ProcessingInputs\": [{\"InputName\": \"input-1\", \"AppManaged\": false, \"S3Input\": {\"S3Uri\": \"s3://mlflowdemo-kb/l3e3/reviews_Musical_Instruments_5.json.zip\", \"LocalPath\": \"/opt/ml/processing/input\", \"S3DataType\": \"S3Prefix\", \"S3InputMode\": \"File\", \"S3DataDistributionType\": \"FullyReplicated\", \"S3CompressionType\": \"None\"}}, {\"InputName\": \"code\", \"AppManaged\": false, \"S3Input\": {\"S3Uri\": \"s3://mlflowdemo-kb/l3e3/HelloBlazePreprocess.py\", \"LocalPath\": \"/opt/ml/processing/input/code\", \"S3DataType\": \"S3Prefix\", \"S3InputMode\": \"File\", \"S3DataDistributionType\": \"FullyReplicated\", \"S3CompressionType\": \"None\"}}], \"ProcessingOutputConfig\": {\"Outputs\": [{\"OutputName\": \"train_data\", \"AppManaged\": false, \"S3Output\": {\"S3Uri\": \"s3://sagemaker-us-east-1-560402809124/hello_blaze_train_scikit\", \"LocalPath\": \"/opt/ml/processing/output/train\", \"S3UploadMode\": \"EndOfJob\"}}, {\"OutputName\": \"test_data\", \"AppManaged\": false, \"S3Output\": {\"S3Uri\": \"s3://sagemaker-us-east-1-560402809124/hello_blaze_test_scikit\", \"LocalPath\": \"/opt/ml/processing/output/test\", \"S3UploadMode\": \"EndOfJob\"}}]}, \"AppSpecification\": {\"ImageUri\": \"683313688378.dkr.ecr.us-east-1.amazonaws.com/sagemaker-scikit-learn:0.20.0-cpu-py3\", \"ContainerEntrypoint\": [\"python3\", \"/opt/ml/processing/input/code/HelloBlazePreprocess.py\"]}, \"RoleArn\": \"arn:aws:iam::560402809124:role/service-role/AmazonSageMaker-ExecutionRole-20221219T171322\", \"ProcessingResources\": {\"ClusterConfig\": {\"InstanceCount\": 1, \"InstanceType\": \"ml.m5.large\", \"VolumeSizeInGB\": 30}}}, \"Type\": \"Task\", \"Next\": \"SageMaker Training Step\"}, \"SageMaker Training Step\": {\"Resource\": \"arn:aws:states:::sagemaker:createTrainingJob.sync\", \"Parameters\": {\"AlgorithmSpecification\": {\"TrainingImage\": \"811284229777.dkr.ecr.us-east-1.amazonaws.com/blazingtext:1\", \"TrainingInputMode\": \"File\"}, \"OutputDataConfig\": {\"S3OutputPath\": \"s3://mlflowdemo-kb/l3e3/workflow-output\"}, \"StoppingCondition\": {\"MaxRuntimeInSeconds\": 360000}, \"ResourceConfig\": {\"VolumeSizeInGB\": 30, \"InstanceCount\": 1, \"InstanceType\": \"ml.m5.large\"}, \"RoleArn\": \"arn:aws:iam::560402809124:role/service-role/AmazonSageMaker-ExecutionRole-20221219T171322\", \"InputDataConfig\": [{\"DataSource\": {\"S3DataSource\": {\"S3DataType\": \"S3Prefix\", \"S3Uri\": \"s3://sagemaker-us-east-1-560402809124/hello_blaze_train_scikit\", \"S3DataDistributionType\": \"FullyReplicated\"}}, \"ContentType\": \"text/plain\", \"ChannelName\": \"train\"}, {\"DataSource\": {\"S3DataSource\": {\"S3DataType\": \"S3Prefix\", \"S3Uri\": \"s3://sagemaker-us-east-1-560402809124/hello_blaze_test_scikit\", \"S3DataDistributionType\": \"FullyReplicated\"}}, \"ContentType\": \"text/plain\", \"ChannelName\": \"validation\"}], \"HyperParameters\": {\"mode\": \"supervised\"}, \"TrainingJobName\": \"training-job2\", \"DebugHookConfig\": {\"S3OutputPath\": \"s3://mlflowdemo-kb/l3e3/workflow-output\"}}, \"Type\": \"Task\", \"End\": true}}};\n",
       "    var elementId = '#graph-742';\n",
       "    var events = { 'events': [{\"timestamp\": 1672937502.587, \"type\": \"ExecutionStarted\", \"id\": 1, \"previousEventId\": 0, \"executionStartedEventDetails\": {\"input\": \"{\\n    \\\"PreprocessingJobName\\\": \\\"test-step-function2\\\",\\n    \\\"TrainingJobName\\\": \\\"training-job2\\\"\\n}\", \"inputDetails\": {\"truncated\": false}, \"roleArn\": \"arn:aws:iam::560402809124:role/step-function-role\"}}, {\"timestamp\": 1672937502.656, \"type\": \"TaskStateEntered\", \"id\": 2, \"previousEventId\": 0, \"stateEnteredEventDetails\": {\"name\": \"SageMaker pre-processing step 4\", \"input\": \"{\\n    \\\"PreprocessingJobName\\\": \\\"test-step-function2\\\",\\n    \\\"TrainingJobName\\\": \\\"training-job2\\\"\\n}\", \"inputDetails\": {\"truncated\": false}}}, {\"timestamp\": 1672937502.656, \"type\": \"TaskScheduled\", \"id\": 3, \"previousEventId\": 2, \"taskScheduledEventDetails\": {\"resourceType\": \"sagemaker\", \"resource\": \"createProcessingJob.sync\", \"region\": \"us-east-1\", \"parameters\": \"{\\\"ProcessingJobName\\\":\\\"test-step-function2\\\",\\\"ProcessingInputs\\\":[{\\\"InputName\\\":\\\"input-1\\\",\\\"AppManaged\\\":false,\\\"S3Input\\\":{\\\"S3Uri\\\":\\\"s3://mlflowdemo-kb/l3e3/reviews_Musical_Instruments_5.json.zip\\\",\\\"LocalPath\\\":\\\"/opt/ml/processing/input\\\",\\\"S3DataType\\\":\\\"S3Prefix\\\",\\\"S3InputMode\\\":\\\"File\\\",\\\"S3DataDistributionType\\\":\\\"FullyReplicated\\\",\\\"S3CompressionType\\\":\\\"None\\\"}},{\\\"InputName\\\":\\\"code\\\",\\\"AppManaged\\\":false,\\\"S3Input\\\":{\\\"S3Uri\\\":\\\"s3://mlflowdemo-kb/l3e3/HelloBlazePreprocess.py\\\",\\\"LocalPath\\\":\\\"/opt/ml/processing/input/code\\\",\\\"S3DataType\\\":\\\"S3Prefix\\\",\\\"S3InputMode\\\":\\\"File\\\",\\\"S3DataDistributionType\\\":\\\"FullyReplicated\\\",\\\"S3CompressionType\\\":\\\"None\\\"}}],\\\"ProcessingOutputConfig\\\":{\\\"Outputs\\\":[{\\\"OutputName\\\":\\\"train_data\\\",\\\"AppManaged\\\":false,\\\"S3Output\\\":{\\\"S3Uri\\\":\\\"s3://sagemaker-us-east-1-560402809124/hello_blaze_train_scikit\\\",\\\"LocalPath\\\":\\\"/opt/ml/processing/output/train\\\",\\\"S3UploadMode\\\":\\\"EndOfJob\\\"}},{\\\"OutputName\\\":\\\"test_data\\\",\\\"AppManaged\\\":false,\\\"S3Output\\\":{\\\"S3Uri\\\":\\\"s3://sagemaker-us-east-1-560402809124/hello_blaze_test_scikit\\\",\\\"LocalPath\\\":\\\"/opt/ml/processing/output/test\\\",\\\"S3UploadMode\\\":\\\"EndOfJob\\\"}}]},\\\"AppSpecification\\\":{\\\"ImageUri\\\":\\\"683313688378.dkr.ecr.us-east-1.amazonaws.com/sagemaker-scikit-learn:0.20.0-cpu-py3\\\",\\\"ContainerEntrypoint\\\":[\\\"python3\\\",\\\"/opt/ml/processing/input/code/HelloBlazePreprocess.py\\\"]},\\\"RoleArn\\\":\\\"arn:aws:iam::560402809124:role/service-role/AmazonSageMaker-ExecutionRole-20221219T171322\\\",\\\"ProcessingResources\\\":{\\\"ClusterConfig\\\":{\\\"InstanceCount\\\":1,\\\"InstanceType\\\":\\\"ml.m5.large\\\",\\\"VolumeSizeInGB\\\":30}},\\\"Tags\\\":[{\\\"Key\\\":\\\"MANAGED_BY_AWS\\\",\\\"Value\\\":\\\"STARTED_BY_STEP_FUNCTIONS\\\"}]}\"}}, {\"timestamp\": 1672937502.727, \"type\": \"TaskStarted\", \"id\": 4, \"previousEventId\": 3, \"taskStartedEventDetails\": {\"resourceType\": \"sagemaker\", \"resource\": \"createProcessingJob.sync\"}}, {\"timestamp\": 1672937503.084, \"type\": \"TaskSubmitted\", \"id\": 5, \"previousEventId\": 4, \"taskSubmittedEventDetails\": {\"resourceType\": \"sagemaker\", \"resource\": \"createProcessingJob.sync\", \"output\": \"{\\\"ProcessingJobArn\\\":\\\"arn:aws:sagemaker:us-east-1:560402809124:processing-job/test-step-function2\\\",\\\"SdkHttpMetadata\\\":{\\\"AllHttpHeaders\\\":{\\\"x-amzn-RequestId\\\":[\\\"1fe16cf7-1689-4527-9a18-af6124caab2f\\\"],\\\"Content-Length\\\":[\\\"98\\\"],\\\"Date\\\":[\\\"Thu, 05 Jan 2023 16:51:42 GMT\\\"],\\\"Content-Type\\\":[\\\"application/x-amz-json-1.1\\\"]},\\\"HttpHeaders\\\":{\\\"Content-Length\\\":\\\"98\\\",\\\"Content-Type\\\":\\\"application/x-amz-json-1.1\\\",\\\"Date\\\":\\\"Thu, 05 Jan 2023 16:51:42 GMT\\\",\\\"x-amzn-RequestId\\\":\\\"1fe16cf7-1689-4527-9a18-af6124caab2f\\\"},\\\"HttpStatusCode\\\":200},\\\"SdkResponseMetadata\\\":{\\\"RequestId\\\":\\\"1fe16cf7-1689-4527-9a18-af6124caab2f\\\"}}\", \"outputDetails\": {\"truncated\": false}}}, {\"timestamp\": 1672937784.09, \"type\": \"TaskSucceeded\", \"id\": 6, \"previousEventId\": 5, \"taskSucceededEventDetails\": {\"resourceType\": \"sagemaker\", \"resource\": \"createProcessingJob.sync\", \"output\": \"{\\\"ProcessingInputs\\\":[{\\\"InputName\\\":\\\"input-1\\\",\\\"AppManaged\\\":false,\\\"S3Input\\\":{\\\"S3Uri\\\":\\\"s3://mlflowdemo-kb/l3e3/reviews_Musical_Instruments_5.json.zip\\\",\\\"LocalPath\\\":\\\"/opt/ml/processing/input\\\",\\\"S3DataType\\\":\\\"S3_PREFIX\\\",\\\"S3InputMode\\\":\\\"FILE\\\",\\\"S3DataDistributionType\\\":\\\"FULLYREPLICATED\\\"}},{\\\"InputName\\\":\\\"code\\\",\\\"AppManaged\\\":false,\\\"S3Input\\\":{\\\"S3Uri\\\":\\\"s3://mlflowdemo-kb/l3e3/HelloBlazePreprocess.py\\\",\\\"LocalPath\\\":\\\"/opt/ml/processing/input/code\\\",\\\"S3DataType\\\":\\\"S3_PREFIX\\\",\\\"S3InputMode\\\":\\\"FILE\\\",\\\"S3DataDistributionType\\\":\\\"FULLYREPLICATED\\\"}}],\\\"ProcessingOutputConfig\\\":{\\\"Outputs\\\":[{\\\"OutputName\\\":\\\"train_data\\\",\\\"S3Output\\\":{\\\"S3Uri\\\":\\\"s3://sagemaker-us-east-1-560402809124/hello_blaze_train_scikit\\\",\\\"LocalPath\\\":\\\"/opt/ml/processing/output/train\\\",\\\"S3UploadMode\\\":\\\"END_OF_JOB\\\"},\\\"AppManaged\\\":false},{\\\"OutputName\\\":\\\"test_data\\\",\\\"S3Output\\\":{\\\"S3Uri\\\":\\\"s3://sagemaker-us-east-1-560402809124/hello_blaze_test_scikit\\\",\\\"LocalPath\\\":\\\"/opt/ml/processing/output/test\\\",\\\"S3UploadMode\\\":\\\"END_OF_JOB\\\"},\\\"AppManaged\\\":false}]},\\\"ProcessingJobName\\\":\\\"test-step-function2\\\",\\\"ProcessingResources\\\":{\\\"ClusterConfig\\\":{\\\"InstanceCount\\\":1.0,\\\"InstanceType\\\":\\\"ml.m5.large\\\",\\\"VolumeSizeInGB\\\":30.0}},\\\"StoppingCondition\\\":{\\\"MaxRuntimeInSeconds\\\":86400.0},\\\"AppSpecification\\\":{\\\"ImageUri\\\":\\\"683313688378.dkr.ecr.us-east-1.amazonaws.com/sagemaker-scikit-learn:0.20.0-cpu-py3\\\",\\\"ContainerEntrypoint\\\":[\\\"python3\\\",\\\"/opt/ml/processing/input/code/HelloBlazePreprocess.py\\\"]},\\\"RoleArn\\\":\\\"arn:aws:iam::560402809124:role/service-role/AmazonSageMaker-ExecutionRole-20221219T171322\\\",\\\"ExperimentConfig\\\":{},\\\"ProcessingJobArn\\\":\\\"arn:aws:sagemaker:us-east-1:560402809124:processing-job/test-step-function2\\\",\\\"ProcessingJobStatus\\\":\\\"Completed\\\",\\\"ProcessingEndTime\\\":1.672937777E12,\\\"ProcessingStartTime\\\":1.672937759E12,\\\"LastModifiedTime\\\":1.672937778E12,\\\"CreationTime\\\":1.672937502E12,\\\"Tags\\\":{\\\"AWS_STEP_FUNCTIONS_EXECUTION_ARN\\\":\\\"arn:aws:states:us-east-1:560402809124:execution:SageMaker_StepFunction2:9f1f4b15-b345-4cd8-9a59-c19c5074dc03\\\",\\\"MANAGED_BY_AWS\\\":\\\"STARTED_BY_STEP_FUNCTIONS\\\"}}\", \"outputDetails\": {\"truncated\": false}}}, {\"timestamp\": 1672937784.121, \"type\": \"TaskStateExited\", \"id\": 7, \"previousEventId\": 6, \"stateExitedEventDetails\": {\"name\": \"SageMaker pre-processing step 4\", \"output\": \"{\\\"ProcessingInputs\\\":[{\\\"InputName\\\":\\\"input-1\\\",\\\"AppManaged\\\":false,\\\"S3Input\\\":{\\\"S3Uri\\\":\\\"s3://mlflowdemo-kb/l3e3/reviews_Musical_Instruments_5.json.zip\\\",\\\"LocalPath\\\":\\\"/opt/ml/processing/input\\\",\\\"S3DataType\\\":\\\"S3_PREFIX\\\",\\\"S3InputMode\\\":\\\"FILE\\\",\\\"S3DataDistributionType\\\":\\\"FULLYREPLICATED\\\"}},{\\\"InputName\\\":\\\"code\\\",\\\"AppManaged\\\":false,\\\"S3Input\\\":{\\\"S3Uri\\\":\\\"s3://mlflowdemo-kb/l3e3/HelloBlazePreprocess.py\\\",\\\"LocalPath\\\":\\\"/opt/ml/processing/input/code\\\",\\\"S3DataType\\\":\\\"S3_PREFIX\\\",\\\"S3InputMode\\\":\\\"FILE\\\",\\\"S3DataDistributionType\\\":\\\"FULLYREPLICATED\\\"}}],\\\"ProcessingOutputConfig\\\":{\\\"Outputs\\\":[{\\\"OutputName\\\":\\\"train_data\\\",\\\"S3Output\\\":{\\\"S3Uri\\\":\\\"s3://sagemaker-us-east-1-560402809124/hello_blaze_train_scikit\\\",\\\"LocalPath\\\":\\\"/opt/ml/processing/output/train\\\",\\\"S3UploadMode\\\":\\\"END_OF_JOB\\\"},\\\"AppManaged\\\":false},{\\\"OutputName\\\":\\\"test_data\\\",\\\"S3Output\\\":{\\\"S3Uri\\\":\\\"s3://sagemaker-us-east-1-560402809124/hello_blaze_test_scikit\\\",\\\"LocalPath\\\":\\\"/opt/ml/processing/output/test\\\",\\\"S3UploadMode\\\":\\\"END_OF_JOB\\\"},\\\"AppManaged\\\":false}]},\\\"ProcessingJobName\\\":\\\"test-step-function2\\\",\\\"ProcessingResources\\\":{\\\"ClusterConfig\\\":{\\\"InstanceCount\\\":1.0,\\\"InstanceType\\\":\\\"ml.m5.large\\\",\\\"VolumeSizeInGB\\\":30.0}},\\\"StoppingCondition\\\":{\\\"MaxRuntimeInSeconds\\\":86400.0},\\\"AppSpecification\\\":{\\\"ImageUri\\\":\\\"683313688378.dkr.ecr.us-east-1.amazonaws.com/sagemaker-scikit-learn:0.20.0-cpu-py3\\\",\\\"ContainerEntrypoint\\\":[\\\"python3\\\",\\\"/opt/ml/processing/input/code/HelloBlazePreprocess.py\\\"]},\\\"RoleArn\\\":\\\"arn:aws:iam::560402809124:role/service-role/AmazonSageMaker-ExecutionRole-20221219T171322\\\",\\\"ExperimentConfig\\\":{},\\\"ProcessingJobArn\\\":\\\"arn:aws:sagemaker:us-east-1:560402809124:processing-job/test-step-function2\\\",\\\"ProcessingJobStatus\\\":\\\"Completed\\\",\\\"ProcessingEndTime\\\":1.672937777E12,\\\"ProcessingStartTime\\\":1.672937759E12,\\\"LastModifiedTime\\\":1.672937778E12,\\\"CreationTime\\\":1.672937502E12,\\\"Tags\\\":{\\\"AWS_STEP_FUNCTIONS_EXECUTION_ARN\\\":\\\"arn:aws:states:us-east-1:560402809124:execution:SageMaker_StepFunction2:9f1f4b15-b345-4cd8-9a59-c19c5074dc03\\\",\\\"MANAGED_BY_AWS\\\":\\\"STARTED_BY_STEP_FUNCTIONS\\\"}}\", \"outputDetails\": {\"truncated\": false}}}, {\"timestamp\": 1672937784.121, \"type\": \"TaskStateEntered\", \"id\": 8, \"previousEventId\": 7, \"stateEnteredEventDetails\": {\"name\": \"SageMaker Training Step\", \"input\": \"{\\\"ProcessingInputs\\\":[{\\\"InputName\\\":\\\"input-1\\\",\\\"AppManaged\\\":false,\\\"S3Input\\\":{\\\"S3Uri\\\":\\\"s3://mlflowdemo-kb/l3e3/reviews_Musical_Instruments_5.json.zip\\\",\\\"LocalPath\\\":\\\"/opt/ml/processing/input\\\",\\\"S3DataType\\\":\\\"S3_PREFIX\\\",\\\"S3InputMode\\\":\\\"FILE\\\",\\\"S3DataDistributionType\\\":\\\"FULLYREPLICATED\\\"}},{\\\"InputName\\\":\\\"code\\\",\\\"AppManaged\\\":false,\\\"S3Input\\\":{\\\"S3Uri\\\":\\\"s3://mlflowdemo-kb/l3e3/HelloBlazePreprocess.py\\\",\\\"LocalPath\\\":\\\"/opt/ml/processing/input/code\\\",\\\"S3DataType\\\":\\\"S3_PREFIX\\\",\\\"S3InputMode\\\":\\\"FILE\\\",\\\"S3DataDistributionType\\\":\\\"FULLYREPLICATED\\\"}}],\\\"ProcessingOutputConfig\\\":{\\\"Outputs\\\":[{\\\"OutputName\\\":\\\"train_data\\\",\\\"S3Output\\\":{\\\"S3Uri\\\":\\\"s3://sagemaker-us-east-1-560402809124/hello_blaze_train_scikit\\\",\\\"LocalPath\\\":\\\"/opt/ml/processing/output/train\\\",\\\"S3UploadMode\\\":\\\"END_OF_JOB\\\"},\\\"AppManaged\\\":false},{\\\"OutputName\\\":\\\"test_data\\\",\\\"S3Output\\\":{\\\"S3Uri\\\":\\\"s3://sagemaker-us-east-1-560402809124/hello_blaze_test_scikit\\\",\\\"LocalPath\\\":\\\"/opt/ml/processing/output/test\\\",\\\"S3UploadMode\\\":\\\"END_OF_JOB\\\"},\\\"AppManaged\\\":false}]},\\\"ProcessingJobName\\\":\\\"test-step-function2\\\",\\\"ProcessingResources\\\":{\\\"ClusterConfig\\\":{\\\"InstanceCount\\\":1.0,\\\"InstanceType\\\":\\\"ml.m5.large\\\",\\\"VolumeSizeInGB\\\":30.0}},\\\"StoppingCondition\\\":{\\\"MaxRuntimeInSeconds\\\":86400.0},\\\"AppSpecification\\\":{\\\"ImageUri\\\":\\\"683313688378.dkr.ecr.us-east-1.amazonaws.com/sagemaker-scikit-learn:0.20.0-cpu-py3\\\",\\\"ContainerEntrypoint\\\":[\\\"python3\\\",\\\"/opt/ml/processing/input/code/HelloBlazePreprocess.py\\\"]},\\\"RoleArn\\\":\\\"arn:aws:iam::560402809124:role/service-role/AmazonSageMaker-ExecutionRole-20221219T171322\\\",\\\"ExperimentConfig\\\":{},\\\"ProcessingJobArn\\\":\\\"arn:aws:sagemaker:us-east-1:560402809124:processing-job/test-step-function2\\\",\\\"ProcessingJobStatus\\\":\\\"Completed\\\",\\\"ProcessingEndTime\\\":1.672937777E12,\\\"ProcessingStartTime\\\":1.672937759E12,\\\"LastModifiedTime\\\":1.672937778E12,\\\"CreationTime\\\":1.672937502E12,\\\"Tags\\\":{\\\"AWS_STEP_FUNCTIONS_EXECUTION_ARN\\\":\\\"arn:aws:states:us-east-1:560402809124:execution:SageMaker_StepFunction2:9f1f4b15-b345-4cd8-9a59-c19c5074dc03\\\",\\\"MANAGED_BY_AWS\\\":\\\"STARTED_BY_STEP_FUNCTIONS\\\"}}\", \"inputDetails\": {\"truncated\": false}}}, {\"timestamp\": 1672937784.121, \"type\": \"TaskScheduled\", \"id\": 9, \"previousEventId\": 8, \"taskScheduledEventDetails\": {\"resourceType\": \"sagemaker\", \"resource\": \"createTrainingJob.sync\", \"region\": \"us-east-1\", \"parameters\": \"{\\\"AlgorithmSpecification\\\":{\\\"TrainingImage\\\":\\\"811284229777.dkr.ecr.us-east-1.amazonaws.com/blazingtext:1\\\",\\\"TrainingInputMode\\\":\\\"File\\\"},\\\"OutputDataConfig\\\":{\\\"S3OutputPath\\\":\\\"s3://mlflowdemo-kb/l3e3/workflow-output\\\"},\\\"StoppingCondition\\\":{\\\"MaxRuntimeInSeconds\\\":360000},\\\"ResourceConfig\\\":{\\\"VolumeSizeInGB\\\":30,\\\"InstanceCount\\\":1,\\\"InstanceType\\\":\\\"ml.m5.large\\\"},\\\"RoleArn\\\":\\\"arn:aws:iam::560402809124:role/service-role/AmazonSageMaker-ExecutionRole-20221219T171322\\\",\\\"InputDataConfig\\\":[{\\\"DataSource\\\":{\\\"S3DataSource\\\":{\\\"S3DataType\\\":\\\"S3Prefix\\\",\\\"S3Uri\\\":\\\"s3://sagemaker-us-east-1-560402809124/hello_blaze_train_scikit\\\",\\\"S3DataDistributionType\\\":\\\"FullyReplicated\\\"}},\\\"ContentType\\\":\\\"text/plain\\\",\\\"ChannelName\\\":\\\"train\\\"},{\\\"DataSource\\\":{\\\"S3DataSource\\\":{\\\"S3DataType\\\":\\\"S3Prefix\\\",\\\"S3Uri\\\":\\\"s3://sagemaker-us-east-1-560402809124/hello_blaze_test_scikit\\\",\\\"S3DataDistributionType\\\":\\\"FullyReplicated\\\"}},\\\"ContentType\\\":\\\"text/plain\\\",\\\"ChannelName\\\":\\\"validation\\\"}],\\\"HyperParameters\\\":{\\\"mode\\\":\\\"supervised\\\"},\\\"TrainingJobName\\\":\\\"training-job2\\\",\\\"DebugHookConfig\\\":{\\\"S3OutputPath\\\":\\\"s3://mlflowdemo-kb/l3e3/workflow-output\\\"},\\\"Tags\\\":[{\\\"Key\\\":\\\"MANAGED_BY_AWS\\\",\\\"Value\\\":\\\"STARTED_BY_STEP_FUNCTIONS\\\"}]}\"}}, {\"timestamp\": 1672937784.202, \"type\": \"TaskStarted\", \"id\": 10, \"previousEventId\": 9, \"taskStartedEventDetails\": {\"resourceType\": \"sagemaker\", \"resource\": \"createTrainingJob.sync\"}}, {\"timestamp\": 1672937784.659, \"type\": \"TaskSubmitted\", \"id\": 11, \"previousEventId\": 10, \"taskSubmittedEventDetails\": {\"resourceType\": \"sagemaker\", \"resource\": \"createTrainingJob.sync\", \"output\": \"{\\\"SdkHttpMetadata\\\":{\\\"AllHttpHeaders\\\":{\\\"x-amzn-RequestId\\\":[\\\"7ce6f80a-169b-411a-a7d7-df7dcae31fc4\\\"],\\\"Content-Length\\\":[\\\"88\\\"],\\\"Date\\\":[\\\"Thu, 05 Jan 2023 16:56:23 GMT\\\"],\\\"Content-Type\\\":[\\\"application/x-amz-json-1.1\\\"]},\\\"HttpHeaders\\\":{\\\"Content-Length\\\":\\\"88\\\",\\\"Content-Type\\\":\\\"application/x-amz-json-1.1\\\",\\\"Date\\\":\\\"Thu, 05 Jan 2023 16:56:23 GMT\\\",\\\"x-amzn-RequestId\\\":\\\"7ce6f80a-169b-411a-a7d7-df7dcae31fc4\\\"},\\\"HttpStatusCode\\\":200},\\\"SdkResponseMetadata\\\":{\\\"RequestId\\\":\\\"7ce6f80a-169b-411a-a7d7-df7dcae31fc4\\\"},\\\"TrainingJobArn\\\":\\\"arn:aws:sagemaker:us-east-1:560402809124:training-job/training-job2\\\"}\", \"outputDetails\": {\"truncated\": false}}}, {\"timestamp\": 1672938053.27, \"type\": \"TaskSucceeded\", \"id\": 12, \"previousEventId\": 11, \"taskSucceededEventDetails\": {\"resourceType\": \"sagemaker\", \"resource\": \"createTrainingJob.sync\", \"output\": \"{\\\"TrainingJobName\\\":\\\"training-job2\\\",\\\"TrainingJobArn\\\":\\\"arn:aws:sagemaker:us-east-1:560402809124:training-job/training-job2\\\",\\\"ModelArtifacts\\\":{\\\"S3ModelArtifacts\\\":\\\"s3://mlflowdemo-kb/l3e3/workflow-output/training-job2/output/model.tar.gz\\\"},\\\"TrainingJobStatus\\\":\\\"Completed\\\",\\\"SecondaryStatus\\\":\\\"Completed\\\",\\\"HyperParameters\\\":{\\\"mode\\\":\\\"supervised\\\"},\\\"AlgorithmSpecification\\\":{\\\"TrainingImage\\\":\\\"811284229777.dkr.ecr.us-east-1.amazonaws.com/blazingtext:1\\\",\\\"TrainingInputMode\\\":\\\"FILE\\\"},\\\"RoleArn\\\":\\\"arn:aws:iam::560402809124:role/service-role/AmazonSageMaker-ExecutionRole-20221219T171322\\\",\\\"InputDataConfig\\\":[{\\\"ChannelName\\\":\\\"train\\\",\\\"DataSource\\\":{\\\"S3DataSource\\\":{\\\"S3DataType\\\":\\\"S3_PREFIX\\\",\\\"S3Uri\\\":\\\"s3://sagemaker-us-east-1-560402809124/hello_blaze_train_scikit\\\",\\\"S3DataDistributionType\\\":\\\"FULLY_REPLICATED\\\"}},\\\"ContentType\\\":\\\"text/plain\\\",\\\"CompressionType\\\":\\\"NONE\\\",\\\"RecordWrapperType\\\":\\\"NONE\\\"},{\\\"ChannelName\\\":\\\"validation\\\",\\\"DataSource\\\":{\\\"S3DataSource\\\":{\\\"S3DataType\\\":\\\"S3_PREFIX\\\",\\\"S3Uri\\\":\\\"s3://sagemaker-us-east-1-560402809124/hello_blaze_test_scikit\\\",\\\"S3DataDistributionType\\\":\\\"FULLY_REPLICATED\\\"}},\\\"ContentType\\\":\\\"text/plain\\\",\\\"CompressionType\\\":\\\"NONE\\\",\\\"RecordWrapperType\\\":\\\"NONE\\\"}],\\\"OutputDataConfig\\\":{\\\"S3OutputPath\\\":\\\"s3://mlflowdemo-kb/l3e3/workflow-output\\\"},\\\"ResourceConfig\\\":{\\\"InstanceType\\\":\\\"ml.m5.large\\\",\\\"InstanceCount\\\":1.0,\\\"VolumeSizeInGB\\\":30.0,\\\"KeepAlivePeriodInSeconds\\\":0.0},\\\"StoppingCondition\\\":{\\\"MaxRuntimeInSeconds\\\":360000.0},\\\"CreationTime\\\":1.672937784382E12,\\\"TrainingStartTime\\\":1.672937876626E12,\\\"TrainingEndTime\\\":1.672938048711E12,\\\"LastModifiedTime\\\":1.672938048711E12,\\\"SecondaryStatusTransitions\\\":[{\\\"Status\\\":\\\"Starting\\\",\\\"StartTime\\\":1.672937784382E12,\\\"EndTime\\\":1.672937876626E12,\\\"StatusMessage\\\":\\\"Preparing the instances for training\\\"},{\\\"Status\\\":\\\"Downloading\\\",\\\"StartTime\\\":1.672937876626E12,\\\"EndTime\\\":1.672937902183E12,\\\"StatusMessage\\\":\\\"Downloading input data\\\"},{\\\"Status\\\":\\\"Training\\\",\\\"StartTime\\\":1.672937902183E12,\\\"EndTime\\\":1.672937923032E12,\\\"StatusMessage\\\":\\\"Training image download completed. Training in progress.\\\"},{\\\"Status\\\":\\\"Uploading\\\",\\\"StartTime\\\":1.672937923032E12,\\\"EndTime\\\":1.672938048711E12,\\\"StatusMessage\\\":\\\"Uploading generated training model\\\"},{\\\"Status\\\":\\\"Completed\\\",\\\"StartTime\\\":1.672938048711E12,\\\"EndTime\\\":1.672938048711E12,\\\"StatusMessage\\\":\\\"Training job completed\\\"}],\\\"DebugHookConfig\\\":{\\\"S3OutputPath\\\":\\\"s3://mlflowdemo-kb/l3e3/workflow-output\\\"},\\\"Tags\\\":{\\\"AWS_STEP_FUNCTIONS_EXECUTION_ARN\\\":\\\"arn:aws:states:us-east-1:560402809124:execution:SageMaker_StepFunction2:9f1f4b15-b345-4cd8-9a59-c19c5074dc03\\\",\\\"MANAGED_BY_AWS\\\":\\\"STARTED_BY_STEP_FUNCTIONS\\\"}}\", \"outputDetails\": {\"truncated\": false}}}, {\"timestamp\": 1672938053.294, \"type\": \"TaskStateExited\", \"id\": 13, \"previousEventId\": 12, \"stateExitedEventDetails\": {\"name\": \"SageMaker Training Step\", \"output\": \"{\\\"TrainingJobName\\\":\\\"training-job2\\\",\\\"TrainingJobArn\\\":\\\"arn:aws:sagemaker:us-east-1:560402809124:training-job/training-job2\\\",\\\"ModelArtifacts\\\":{\\\"S3ModelArtifacts\\\":\\\"s3://mlflowdemo-kb/l3e3/workflow-output/training-job2/output/model.tar.gz\\\"},\\\"TrainingJobStatus\\\":\\\"Completed\\\",\\\"SecondaryStatus\\\":\\\"Completed\\\",\\\"HyperParameters\\\":{\\\"mode\\\":\\\"supervised\\\"},\\\"AlgorithmSpecification\\\":{\\\"TrainingImage\\\":\\\"811284229777.dkr.ecr.us-east-1.amazonaws.com/blazingtext:1\\\",\\\"TrainingInputMode\\\":\\\"FILE\\\"},\\\"RoleArn\\\":\\\"arn:aws:iam::560402809124:role/service-role/AmazonSageMaker-ExecutionRole-20221219T171322\\\",\\\"InputDataConfig\\\":[{\\\"ChannelName\\\":\\\"train\\\",\\\"DataSource\\\":{\\\"S3DataSource\\\":{\\\"S3DataType\\\":\\\"S3_PREFIX\\\",\\\"S3Uri\\\":\\\"s3://sagemaker-us-east-1-560402809124/hello_blaze_train_scikit\\\",\\\"S3DataDistributionType\\\":\\\"FULLY_REPLICATED\\\"}},\\\"ContentType\\\":\\\"text/plain\\\",\\\"CompressionType\\\":\\\"NONE\\\",\\\"RecordWrapperType\\\":\\\"NONE\\\"},{\\\"ChannelName\\\":\\\"validation\\\",\\\"DataSource\\\":{\\\"S3DataSource\\\":{\\\"S3DataType\\\":\\\"S3_PREFIX\\\",\\\"S3Uri\\\":\\\"s3://sagemaker-us-east-1-560402809124/hello_blaze_test_scikit\\\",\\\"S3DataDistributionType\\\":\\\"FULLY_REPLICATED\\\"}},\\\"ContentType\\\":\\\"text/plain\\\",\\\"CompressionType\\\":\\\"NONE\\\",\\\"RecordWrapperType\\\":\\\"NONE\\\"}],\\\"OutputDataConfig\\\":{\\\"S3OutputPath\\\":\\\"s3://mlflowdemo-kb/l3e3/workflow-output\\\"},\\\"ResourceConfig\\\":{\\\"InstanceType\\\":\\\"ml.m5.large\\\",\\\"InstanceCount\\\":1.0,\\\"VolumeSizeInGB\\\":30.0,\\\"KeepAlivePeriodInSeconds\\\":0.0},\\\"StoppingCondition\\\":{\\\"MaxRuntimeInSeconds\\\":360000.0},\\\"CreationTime\\\":1.672937784382E12,\\\"TrainingStartTime\\\":1.672937876626E12,\\\"TrainingEndTime\\\":1.672938048711E12,\\\"LastModifiedTime\\\":1.672938048711E12,\\\"SecondaryStatusTransitions\\\":[{\\\"Status\\\":\\\"Starting\\\",\\\"StartTime\\\":1.672937784382E12,\\\"EndTime\\\":1.672937876626E12,\\\"StatusMessage\\\":\\\"Preparing the instances for training\\\"},{\\\"Status\\\":\\\"Downloading\\\",\\\"StartTime\\\":1.672937876626E12,\\\"EndTime\\\":1.672937902183E12,\\\"StatusMessage\\\":\\\"Downloading input data\\\"},{\\\"Status\\\":\\\"Training\\\",\\\"StartTime\\\":1.672937902183E12,\\\"EndTime\\\":1.672937923032E12,\\\"StatusMessage\\\":\\\"Training image download completed. Training in progress.\\\"},{\\\"Status\\\":\\\"Uploading\\\",\\\"StartTime\\\":1.672937923032E12,\\\"EndTime\\\":1.672938048711E12,\\\"StatusMessage\\\":\\\"Uploading generated training model\\\"},{\\\"Status\\\":\\\"Completed\\\",\\\"StartTime\\\":1.672938048711E12,\\\"EndTime\\\":1.672938048711E12,\\\"StatusMessage\\\":\\\"Training job completed\\\"}],\\\"DebugHookConfig\\\":{\\\"S3OutputPath\\\":\\\"s3://mlflowdemo-kb/l3e3/workflow-output\\\"},\\\"Tags\\\":{\\\"AWS_STEP_FUNCTIONS_EXECUTION_ARN\\\":\\\"arn:aws:states:us-east-1:560402809124:execution:SageMaker_StepFunction2:9f1f4b15-b345-4cd8-9a59-c19c5074dc03\\\",\\\"MANAGED_BY_AWS\\\":\\\"STARTED_BY_STEP_FUNCTIONS\\\"}}\", \"outputDetails\": {\"truncated\": false}}}, {\"timestamp\": 1672938053.39, \"type\": \"ExecutionSucceeded\", \"id\": 14, \"previousEventId\": 13, \"executionSucceededEventDetails\": {\"output\": \"{\\\"TrainingJobName\\\":\\\"training-job2\\\",\\\"TrainingJobArn\\\":\\\"arn:aws:sagemaker:us-east-1:560402809124:training-job/training-job2\\\",\\\"ModelArtifacts\\\":{\\\"S3ModelArtifacts\\\":\\\"s3://mlflowdemo-kb/l3e3/workflow-output/training-job2/output/model.tar.gz\\\"},\\\"TrainingJobStatus\\\":\\\"Completed\\\",\\\"SecondaryStatus\\\":\\\"Completed\\\",\\\"HyperParameters\\\":{\\\"mode\\\":\\\"supervised\\\"},\\\"AlgorithmSpecification\\\":{\\\"TrainingImage\\\":\\\"811284229777.dkr.ecr.us-east-1.amazonaws.com/blazingtext:1\\\",\\\"TrainingInputMode\\\":\\\"FILE\\\"},\\\"RoleArn\\\":\\\"arn:aws:iam::560402809124:role/service-role/AmazonSageMaker-ExecutionRole-20221219T171322\\\",\\\"InputDataConfig\\\":[{\\\"ChannelName\\\":\\\"train\\\",\\\"DataSource\\\":{\\\"S3DataSource\\\":{\\\"S3DataType\\\":\\\"S3_PREFIX\\\",\\\"S3Uri\\\":\\\"s3://sagemaker-us-east-1-560402809124/hello_blaze_train_scikit\\\",\\\"S3DataDistributionType\\\":\\\"FULLY_REPLICATED\\\"}},\\\"ContentType\\\":\\\"text/plain\\\",\\\"CompressionType\\\":\\\"NONE\\\",\\\"RecordWrapperType\\\":\\\"NONE\\\"},{\\\"ChannelName\\\":\\\"validation\\\",\\\"DataSource\\\":{\\\"S3DataSource\\\":{\\\"S3DataType\\\":\\\"S3_PREFIX\\\",\\\"S3Uri\\\":\\\"s3://sagemaker-us-east-1-560402809124/hello_blaze_test_scikit\\\",\\\"S3DataDistributionType\\\":\\\"FULLY_REPLICATED\\\"}},\\\"ContentType\\\":\\\"text/plain\\\",\\\"CompressionType\\\":\\\"NONE\\\",\\\"RecordWrapperType\\\":\\\"NONE\\\"}],\\\"OutputDataConfig\\\":{\\\"S3OutputPath\\\":\\\"s3://mlflowdemo-kb/l3e3/workflow-output\\\"},\\\"ResourceConfig\\\":{\\\"InstanceType\\\":\\\"ml.m5.large\\\",\\\"InstanceCount\\\":1.0,\\\"VolumeSizeInGB\\\":30.0,\\\"KeepAlivePeriodInSeconds\\\":0.0},\\\"StoppingCondition\\\":{\\\"MaxRuntimeInSeconds\\\":360000.0},\\\"CreationTime\\\":1.672937784382E12,\\\"TrainingStartTime\\\":1.672937876626E12,\\\"TrainingEndTime\\\":1.672938048711E12,\\\"LastModifiedTime\\\":1.672938048711E12,\\\"SecondaryStatusTransitions\\\":[{\\\"Status\\\":\\\"Starting\\\",\\\"StartTime\\\":1.672937784382E12,\\\"EndTime\\\":1.672937876626E12,\\\"StatusMessage\\\":\\\"Preparing the instances for training\\\"},{\\\"Status\\\":\\\"Downloading\\\",\\\"StartTime\\\":1.672937876626E12,\\\"EndTime\\\":1.672937902183E12,\\\"StatusMessage\\\":\\\"Downloading input data\\\"},{\\\"Status\\\":\\\"Training\\\",\\\"StartTime\\\":1.672937902183E12,\\\"EndTime\\\":1.672937923032E12,\\\"StatusMessage\\\":\\\"Training image download completed. Training in progress.\\\"},{\\\"Status\\\":\\\"Uploading\\\",\\\"StartTime\\\":1.672937923032E12,\\\"EndTime\\\":1.672938048711E12,\\\"StatusMessage\\\":\\\"Uploading generated training model\\\"},{\\\"Status\\\":\\\"Completed\\\",\\\"StartTime\\\":1.672938048711E12,\\\"EndTime\\\":1.672938048711E12,\\\"StatusMessage\\\":\\\"Training job completed\\\"}],\\\"DebugHookConfig\\\":{\\\"S3OutputPath\\\":\\\"s3://mlflowdemo-kb/l3e3/workflow-output\\\"},\\\"Tags\\\":{\\\"AWS_STEP_FUNCTIONS_EXECUTION_ARN\\\":\\\"arn:aws:states:us-east-1:560402809124:execution:SageMaker_StepFunction2:9f1f4b15-b345-4cd8-9a59-c19c5074dc03\\\",\\\"MANAGED_BY_AWS\\\":\\\"STARTED_BY_STEP_FUNCTIONS\\\"}}\", \"outputDetails\": {\"truncated\": false}}}] };\n",
       "\n",
       "    var graph = new sfn.StateMachineExecutionGraph(definition, events, elementId, options);\n",
       "    graph.render();\n",
       "});\n",
       "\n",
       "</script>\n"
      ],
      "text/plain": [
       "<IPython.core.display.HTML object>"
      ]
     },
     "execution_count": 15,
     "metadata": {},
     "output_type": "execute_result"
    }
   ],
   "source": [
    "execution.render_progress()"
   ]
  },
  {
   "cell_type": "code",
   "execution_count": null,
   "id": "9969c5d0-9e3f-4fd8-8ad3-433fb6a8d7ef",
   "metadata": {},
   "outputs": [],
   "source": []
  }
 ],
 "metadata": {
  "instance_type": "ml.t3.medium",
  "kernelspec": {
   "display_name": "Python 3 (Data Science)",
   "language": "python",
   "name": "python3__SAGEMAKER_INTERNAL__arn:aws:sagemaker:us-east-1:081325390199:image/datascience-1.0"
  },
  "language_info": {
   "codemirror_mode": {
    "name": "ipython",
    "version": 3
   },
   "file_extension": ".py",
   "mimetype": "text/x-python",
   "name": "python",
   "nbconvert_exporter": "python",
   "pygments_lexer": "ipython3",
   "version": "3.7.10"
  },
  "vscode": {
   "interpreter": {
    "hash": "b0fa6594d8f4cbf19f97940f81e996739fb7646882a419484c72d19e05852a7e"
   }
  }
 },
 "nbformat": 4,
 "nbformat_minor": 5
}
